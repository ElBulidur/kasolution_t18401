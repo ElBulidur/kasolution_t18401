{
 "cells": [
  {
   "cell_type": "code",
   "execution_count": 11,
   "id": "6f5bbf51",
   "metadata": {},
   "outputs": [],
   "source": [
    "import requests\n",
    "import json\n",
    "import pandas as pd"
   ]
  },
  {
   "cell_type": "code",
   "execution_count": 3,
   "id": "4fd36dbf",
   "metadata": {},
   "outputs": [],
   "source": [
    "endpoint = \"https://68f979b1ef8b2e621e7c2c73.mockapi.io/\"\n",
    "url = f\"{endpoint}/alunos\""
   ]
  },
  {
   "cell_type": "code",
   "execution_count": 16,
   "id": "6041ff1a",
   "metadata": {},
   "outputs": [],
   "source": [
    "respostas = requests.get(url=url)\n",
    "conteudo = json.loads(respostas.content)"
   ]
  },
  {
   "cell_type": "code",
   "execution_count": 17,
   "id": "62363500",
   "metadata": {},
   "outputs": [],
   "source": [
    "df = pd.DataFrame(conteudo)"
   ]
  },
  {
   "cell_type": "code",
   "execution_count": 18,
   "id": "824b9352",
   "metadata": {},
   "outputs": [
    {
     "data": {
      "text/html": [
       "<div>\n",
       "<style scoped>\n",
       "    .dataframe tbody tr th:only-of-type {\n",
       "        vertical-align: middle;\n",
       "    }\n",
       "\n",
       "    .dataframe tbody tr th {\n",
       "        vertical-align: top;\n",
       "    }\n",
       "\n",
       "    .dataframe thead th {\n",
       "        text-align: right;\n",
       "    }\n",
       "</style>\n",
       "<table border=\"1\" class=\"dataframe\">\n",
       "  <thead>\n",
       "    <tr style=\"text-align: right;\">\n",
       "      <th></th>\n",
       "      <th>cadastro</th>\n",
       "      <th>nome</th>\n",
       "      <th>email</th>\n",
       "      <th>carteira</th>\n",
       "      <th>id</th>\n",
       "    </tr>\n",
       "  </thead>\n",
       "  <tbody>\n",
       "    <tr>\n",
       "      <th>0</th>\n",
       "      <td>2025-10-23T10:52:48.609Z</td>\n",
       "      <td>Sandra Jakubowski I</td>\n",
       "      <td>Arjun24@gmail.com</td>\n",
       "      <td>184.93</td>\n",
       "      <td>3</td>\n",
       "    </tr>\n",
       "    <tr>\n",
       "      <th>1</th>\n",
       "      <td>2025-10-23T11:37:39.102Z</td>\n",
       "      <td>Dan Carroll</td>\n",
       "      <td>Garth14@hotmail.com</td>\n",
       "      <td>345.43</td>\n",
       "      <td>5</td>\n",
       "    </tr>\n",
       "    <tr>\n",
       "      <th>2</th>\n",
       "      <td>2025-10-23T11:47:26.648Z</td>\n",
       "      <td>Dr. Charles Bergnaum Sr.</td>\n",
       "      <td>Emmitt_Crona8@yahoo.com</td>\n",
       "      <td>804.39</td>\n",
       "      <td>6</td>\n",
       "    </tr>\n",
       "    <tr>\n",
       "      <th>3</th>\n",
       "      <td>2025-10-23T11:13:08.769Z</td>\n",
       "      <td>Teri Willms I</td>\n",
       "      <td>Tessie_Mayer@hotmail.com</td>\n",
       "      <td>693.01</td>\n",
       "      <td>7</td>\n",
       "    </tr>\n",
       "    <tr>\n",
       "      <th>4</th>\n",
       "      <td>2025-10-23T05:48:18.969Z</td>\n",
       "      <td>Sandra Streich</td>\n",
       "      <td>Eriberto_Koepp@hotmail.com</td>\n",
       "      <td>874.58</td>\n",
       "      <td>8</td>\n",
       "    </tr>\n",
       "  </tbody>\n",
       "</table>\n",
       "</div>"
      ],
      "text/plain": [
       "                   cadastro                      nome  \\\n",
       "0  2025-10-23T10:52:48.609Z       Sandra Jakubowski I   \n",
       "1  2025-10-23T11:37:39.102Z               Dan Carroll   \n",
       "2  2025-10-23T11:47:26.648Z  Dr. Charles Bergnaum Sr.   \n",
       "3  2025-10-23T11:13:08.769Z             Teri Willms I   \n",
       "4  2025-10-23T05:48:18.969Z            Sandra Streich   \n",
       "\n",
       "                        email carteira id  \n",
       "0           Arjun24@gmail.com   184.93  3  \n",
       "1         Garth14@hotmail.com   345.43  5  \n",
       "2     Emmitt_Crona8@yahoo.com   804.39  6  \n",
       "3    Tessie_Mayer@hotmail.com   693.01  7  \n",
       "4  Eriberto_Koepp@hotmail.com   874.58  8  "
      ]
     },
     "execution_count": 18,
     "metadata": {},
     "output_type": "execute_result"
    }
   ],
   "source": [
    "df.head()"
   ]
  },
  {
   "cell_type": "code",
   "execution_count": 19,
   "id": "f9d1190a",
   "metadata": {},
   "outputs": [
    {
     "name": "stdout",
     "output_type": "stream",
     "text": [
      "<class 'pandas.core.frame.DataFrame'>\n",
      "RangeIndex: 7 entries, 0 to 6\n",
      "Data columns (total 5 columns):\n",
      " #   Column    Non-Null Count  Dtype \n",
      "---  ------    --------------  ----- \n",
      " 0   cadastro  7 non-null      object\n",
      " 1   nome      7 non-null      object\n",
      " 2   email     7 non-null      object\n",
      " 3   carteira  7 non-null      object\n",
      " 4   id        7 non-null      object\n",
      "dtypes: object(5)\n",
      "memory usage: 412.0+ bytes\n"
     ]
    }
   ],
   "source": [
    "df.info()"
   ]
  },
  {
   "cell_type": "code",
   "execution_count": null,
   "id": "ff3e2f39",
   "metadata": {},
   "outputs": [],
   "source": []
  },
  {
   "cell_type": "code",
   "execution_count": 21,
   "id": "86cf4772",
   "metadata": {},
   "outputs": [],
   "source": [
    "df['carteira'] = df['carteira'].apply(lambda x: float(x))"
   ]
  },
  {
   "cell_type": "code",
   "execution_count": 24,
   "id": "f7074598",
   "metadata": {},
   "outputs": [
    {
     "name": "stdout",
     "output_type": "stream",
     "text": [
      "<class 'pandas.core.frame.DataFrame'>\n",
      "RangeIndex: 7 entries, 0 to 6\n",
      "Data columns (total 5 columns):\n",
      " #   Column    Non-Null Count  Dtype  \n",
      "---  ------    --------------  -----  \n",
      " 0   cadastro  7 non-null      object \n",
      " 1   nome      7 non-null      object \n",
      " 2   email     7 non-null      object \n",
      " 3   carteira  7 non-null      float64\n",
      " 4   id        7 non-null      object \n",
      "dtypes: float64(1), object(4)\n",
      "memory usage: 412.0+ bytes\n"
     ]
    }
   ],
   "source": [
    "df.info()"
   ]
  },
  {
   "cell_type": "markdown",
   "id": "37176b73",
   "metadata": {},
   "source": [
    "\n",
    "# GRÁFICO DE ALUNOS"
   ]
  },
  {
   "cell_type": "code",
   "execution_count": 23,
   "id": "bcea9f71",
   "metadata": {},
   "outputs": [
    {
     "data": {
      "text/plain": [
       "<Axes: >"
      ]
     },
     "execution_count": 23,
     "metadata": {},
     "output_type": "execute_result"
    },
    {
     "data": {
      "image/png": "[encoded data removed]",
      "text/plain": [
       "<Figure size 640x480 with 1 Axes>"
      ]
     },
     "metadata": {},
     "output_type": "display_data"
    }
   ],
   "source": [
    "df.plot()"
   ]
  },
  {
   "cell_type": "code",
   "execution_count": null,
   "id": "6619ae7b",
   "metadata": {},
   "outputs": [],
   "source": []
  }
 ],
 "metadata": {
  "kernelspec": {
   "display_name": "base",
   "language": "python",
   "name": "python3"
  },
  "language_info": {
   "codemirror_mode": {
    "name": "ipython",
    "version": 3
   },
   "file_extension": ".py",
   "mimetype": "text/x-python",
   "name": "python",
   "nbconvert_exporter": "python",
   "pygments_lexer": "ipython3",
   "version": "3.11.5"
  }
 },
 "nbformat": 4,
 "nbformat_minor": 5
}
